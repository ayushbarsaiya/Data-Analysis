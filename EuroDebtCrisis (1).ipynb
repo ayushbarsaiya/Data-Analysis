{
 "cells": [
  {
   "cell_type": "code",
   "execution_count": 1,
   "id": "88dee557",
   "metadata": {},
   "outputs": [],
   "source": [
    "import numpy as np\n",
    "import pandas as pd\n",
    "import matplotlib.pyplot as plt\n",
    "import seaborn as snn"
   ]
  },
  {
   "cell_type": "code",
   "execution_count": 2,
   "id": "3de5ef0e",
   "metadata": {},
   "outputs": [
    {
     "data": {
      "text/html": [
       "<div>\n",
       "<style scoped>\n",
       "    .dataframe tbody tr th:only-of-type {\n",
       "        vertical-align: middle;\n",
       "    }\n",
       "\n",
       "    .dataframe tbody tr th {\n",
       "        vertical-align: top;\n",
       "    }\n",
       "\n",
       "    .dataframe thead th {\n",
       "        text-align: right;\n",
       "    }\n",
       "</style>\n",
       "<table border=\"1\" class=\"dataframe\">\n",
       "  <thead>\n",
       "    <tr style=\"text-align: right;\">\n",
       "      <th></th>\n",
       "      <th>Creditor</th>\n",
       "      <th>Debtor</th>\n",
       "      <th>Amount</th>\n",
       "      <th>Risk</th>\n",
       "    </tr>\n",
       "  </thead>\n",
       "  <tbody>\n",
       "    <tr>\n",
       "      <th>0</th>\n",
       "      <td>Japan</td>\n",
       "      <td>United States</td>\n",
       "      <td>796.00</td>\n",
       "      <td>Stable</td>\n",
       "    </tr>\n",
       "    <tr>\n",
       "      <th>1</th>\n",
       "      <td>France</td>\n",
       "      <td>Italy</td>\n",
       "      <td>366.00</td>\n",
       "      <td>High Risk</td>\n",
       "    </tr>\n",
       "    <tr>\n",
       "      <th>2</th>\n",
       "      <td>Britain</td>\n",
       "      <td>United States</td>\n",
       "      <td>345.00</td>\n",
       "      <td>Stable</td>\n",
       "    </tr>\n",
       "    <tr>\n",
       "      <th>3</th>\n",
       "      <td>Spain</td>\n",
       "      <td>Britain</td>\n",
       "      <td>326.00</td>\n",
       "      <td>Stable</td>\n",
       "    </tr>\n",
       "    <tr>\n",
       "      <th>4</th>\n",
       "      <td>Germany</td>\n",
       "      <td>United States</td>\n",
       "      <td>324.00</td>\n",
       "      <td>Stable</td>\n",
       "    </tr>\n",
       "    <tr>\n",
       "      <th>5</th>\n",
       "      <td>France</td>\n",
       "      <td>United States</td>\n",
       "      <td>322.00</td>\n",
       "      <td>Stable</td>\n",
       "    </tr>\n",
       "    <tr>\n",
       "      <th>6</th>\n",
       "      <td>Germany</td>\n",
       "      <td>Britain</td>\n",
       "      <td>321.00</td>\n",
       "      <td>Stable</td>\n",
       "    </tr>\n",
       "    <tr>\n",
       "      <th>7</th>\n",
       "      <td>Spain</td>\n",
       "      <td>United States</td>\n",
       "      <td>163.00</td>\n",
       "      <td>Stable</td>\n",
       "    </tr>\n",
       "    <tr>\n",
       "      <th>8</th>\n",
       "      <td>France</td>\n",
       "      <td>Spain</td>\n",
       "      <td>118.00</td>\n",
       "      <td>Medium Risk</td>\n",
       "    </tr>\n",
       "    <tr>\n",
       "      <th>9</th>\n",
       "      <td>Italy</td>\n",
       "      <td>Germany</td>\n",
       "      <td>111.00</td>\n",
       "      <td>Stable</td>\n",
       "    </tr>\n",
       "    <tr>\n",
       "      <th>10</th>\n",
       "      <td>Japan</td>\n",
       "      <td>Germany</td>\n",
       "      <td>88.50</td>\n",
       "      <td>Stable</td>\n",
       "    </tr>\n",
       "    <tr>\n",
       "      <th>11</th>\n",
       "      <td>Spain</td>\n",
       "      <td>Portugal</td>\n",
       "      <td>62.00</td>\n",
       "      <td>High Risk</td>\n",
       "    </tr>\n",
       "    <tr>\n",
       "      <th>12</th>\n",
       "      <td>Germany</td>\n",
       "      <td>Spain</td>\n",
       "      <td>57.60</td>\n",
       "      <td>Medium Risk</td>\n",
       "    </tr>\n",
       "    <tr>\n",
       "      <th>13</th>\n",
       "      <td>France</td>\n",
       "      <td>Greece</td>\n",
       "      <td>53.90</td>\n",
       "      <td>High Risk</td>\n",
       "    </tr>\n",
       "    <tr>\n",
       "      <th>14</th>\n",
       "      <td>France</td>\n",
       "      <td>Germany</td>\n",
       "      <td>53.80</td>\n",
       "      <td>Stable</td>\n",
       "    </tr>\n",
       "    <tr>\n",
       "      <th>15</th>\n",
       "      <td>Germany</td>\n",
       "      <td>Ireland</td>\n",
       "      <td>48.90</td>\n",
       "      <td>High Risk</td>\n",
       "    </tr>\n",
       "    <tr>\n",
       "      <th>16</th>\n",
       "      <td>Japan</td>\n",
       "      <td>Italy</td>\n",
       "      <td>38.80</td>\n",
       "      <td>High Risk</td>\n",
       "    </tr>\n",
       "    <tr>\n",
       "      <th>17</th>\n",
       "      <td>Germany</td>\n",
       "      <td>Portugal</td>\n",
       "      <td>32.50</td>\n",
       "      <td>High Risk</td>\n",
       "    </tr>\n",
       "    <tr>\n",
       "      <th>18</th>\n",
       "      <td>Japan</td>\n",
       "      <td>Britain</td>\n",
       "      <td>28.20</td>\n",
       "      <td>Stable</td>\n",
       "    </tr>\n",
       "    <tr>\n",
       "      <th>19</th>\n",
       "      <td>Britain</td>\n",
       "      <td>Italy</td>\n",
       "      <td>26.00</td>\n",
       "      <td>High Risk</td>\n",
       "    </tr>\n",
       "    <tr>\n",
       "      <th>20</th>\n",
       "      <td>Japan</td>\n",
       "      <td>Spain</td>\n",
       "      <td>25.90</td>\n",
       "      <td>Medium Risk</td>\n",
       "    </tr>\n",
       "    <tr>\n",
       "      <th>21</th>\n",
       "      <td>Britain</td>\n",
       "      <td>France</td>\n",
       "      <td>22.40</td>\n",
       "      <td>Low Risk</td>\n",
       "    </tr>\n",
       "    <tr>\n",
       "      <th>22</th>\n",
       "      <td>Britain</td>\n",
       "      <td>Portugal</td>\n",
       "      <td>19.40</td>\n",
       "      <td>High Risk</td>\n",
       "    </tr>\n",
       "    <tr>\n",
       "      <th>23</th>\n",
       "      <td>Germany</td>\n",
       "      <td>Greece</td>\n",
       "      <td>19.30</td>\n",
       "      <td>High Risk</td>\n",
       "    </tr>\n",
       "    <tr>\n",
       "      <th>24</th>\n",
       "      <td>Japan</td>\n",
       "      <td>Ireland</td>\n",
       "      <td>18.90</td>\n",
       "      <td>High Risk</td>\n",
       "    </tr>\n",
       "    <tr>\n",
       "      <th>25</th>\n",
       "      <td>France</td>\n",
       "      <td>Portugal</td>\n",
       "      <td>18.30</td>\n",
       "      <td>High Risk</td>\n",
       "    </tr>\n",
       "    <tr>\n",
       "      <th>26</th>\n",
       "      <td>France</td>\n",
       "      <td>Ireland</td>\n",
       "      <td>17.30</td>\n",
       "      <td>High Risk</td>\n",
       "    </tr>\n",
       "    <tr>\n",
       "      <th>27</th>\n",
       "      <td>Ireland</td>\n",
       "      <td>Britain</td>\n",
       "      <td>12.00</td>\n",
       "      <td>Stable</td>\n",
       "    </tr>\n",
       "    <tr>\n",
       "      <th>28</th>\n",
       "      <td>United States</td>\n",
       "      <td>Ireland</td>\n",
       "      <td>11.10</td>\n",
       "      <td>High Risk</td>\n",
       "    </tr>\n",
       "    <tr>\n",
       "      <th>29</th>\n",
       "      <td>Portugal</td>\n",
       "      <td>Greece</td>\n",
       "      <td>10.10</td>\n",
       "      <td>High Risk</td>\n",
       "    </tr>\n",
       "    <tr>\n",
       "      <th>30</th>\n",
       "      <td>Spain</td>\n",
       "      <td>Italy</td>\n",
       "      <td>9.79</td>\n",
       "      <td>High Risk</td>\n",
       "    </tr>\n",
       "    <tr>\n",
       "      <th>31</th>\n",
       "      <td>France</td>\n",
       "      <td>Japan</td>\n",
       "      <td>7.73</td>\n",
       "      <td>Stable</td>\n",
       "    </tr>\n",
       "    <tr>\n",
       "      <th>32</th>\n",
       "      <td>Ireland</td>\n",
       "      <td>Spain</td>\n",
       "      <td>6.38</td>\n",
       "      <td>Medium Risk</td>\n",
       "    </tr>\n",
       "    <tr>\n",
       "      <th>33</th>\n",
       "      <td>Portugal</td>\n",
       "      <td>Ireland</td>\n",
       "      <td>3.77</td>\n",
       "      <td>High Risk</td>\n",
       "    </tr>\n",
       "    <tr>\n",
       "      <th>34</th>\n",
       "      <td>Italy</td>\n",
       "      <td>Greece</td>\n",
       "      <td>3.22</td>\n",
       "      <td>High Risk</td>\n",
       "    </tr>\n",
       "    <tr>\n",
       "      <th>35</th>\n",
       "      <td>United States</td>\n",
       "      <td>Italy</td>\n",
       "      <td>3.16</td>\n",
       "      <td>High Risk</td>\n",
       "    </tr>\n",
       "    <tr>\n",
       "      <th>36</th>\n",
       "      <td>United States</td>\n",
       "      <td>Greece</td>\n",
       "      <td>3.10</td>\n",
       "      <td>High Risk</td>\n",
       "    </tr>\n",
       "    <tr>\n",
       "      <th>37</th>\n",
       "      <td>Italy</td>\n",
       "      <td>Ireland</td>\n",
       "      <td>2.83</td>\n",
       "      <td>High Risk</td>\n",
       "    </tr>\n",
       "    <tr>\n",
       "      <th>38</th>\n",
       "      <td>Japan</td>\n",
       "      <td>Portugal</td>\n",
       "      <td>2.18</td>\n",
       "      <td>High Risk</td>\n",
       "    </tr>\n",
       "    <tr>\n",
       "      <th>39</th>\n",
       "      <td>Japan</td>\n",
       "      <td>Greece</td>\n",
       "      <td>1.37</td>\n",
       "      <td>High Risk</td>\n",
       "    </tr>\n",
       "    <tr>\n",
       "      <th>40</th>\n",
       "      <td>Italy</td>\n",
       "      <td>Portugal</td>\n",
       "      <td>0.87</td>\n",
       "      <td>High Risk</td>\n",
       "    </tr>\n",
       "    <tr>\n",
       "      <th>41</th>\n",
       "      <td>Spain</td>\n",
       "      <td>Greece</td>\n",
       "      <td>0.78</td>\n",
       "      <td>High Risk</td>\n",
       "    </tr>\n",
       "    <tr>\n",
       "      <th>42</th>\n",
       "      <td>Britain</td>\n",
       "      <td>Greece</td>\n",
       "      <td>0.55</td>\n",
       "      <td>High Risk</td>\n",
       "    </tr>\n",
       "    <tr>\n",
       "      <th>43</th>\n",
       "      <td>Portugal</td>\n",
       "      <td>United States</td>\n",
       "      <td>0.52</td>\n",
       "      <td>Stable</td>\n",
       "    </tr>\n",
       "    <tr>\n",
       "      <th>44</th>\n",
       "      <td>Ireland</td>\n",
       "      <td>Greece</td>\n",
       "      <td>0.34</td>\n",
       "      <td>High Risk</td>\n",
       "    </tr>\n",
       "  </tbody>\n",
       "</table>\n",
       "</div>"
      ],
      "text/plain": [
       "         Creditor         Debtor  Amount         Risk\n",
       "0           Japan  United States  796.00       Stable\n",
       "1          France          Italy  366.00    High Risk\n",
       "2         Britain  United States  345.00       Stable\n",
       "3           Spain        Britain  326.00       Stable\n",
       "4         Germany  United States  324.00       Stable\n",
       "5          France  United States  322.00       Stable\n",
       "6         Germany        Britain  321.00       Stable\n",
       "7           Spain  United States  163.00       Stable\n",
       "8          France          Spain  118.00  Medium Risk\n",
       "9           Italy        Germany  111.00       Stable\n",
       "10          Japan        Germany   88.50       Stable\n",
       "11          Spain       Portugal   62.00    High Risk\n",
       "12        Germany          Spain   57.60  Medium Risk\n",
       "13         France         Greece   53.90    High Risk\n",
       "14         France        Germany   53.80       Stable\n",
       "15        Germany        Ireland   48.90    High Risk\n",
       "16          Japan          Italy   38.80    High Risk\n",
       "17        Germany       Portugal   32.50    High Risk\n",
       "18          Japan        Britain   28.20       Stable\n",
       "19        Britain          Italy   26.00    High Risk\n",
       "20          Japan          Spain   25.90  Medium Risk\n",
       "21        Britain         France   22.40     Low Risk\n",
       "22        Britain       Portugal   19.40    High Risk\n",
       "23        Germany         Greece   19.30    High Risk\n",
       "24          Japan        Ireland   18.90    High Risk\n",
       "25         France       Portugal   18.30    High Risk\n",
       "26         France        Ireland   17.30    High Risk\n",
       "27        Ireland        Britain   12.00       Stable\n",
       "28  United States        Ireland   11.10    High Risk\n",
       "29       Portugal         Greece   10.10    High Risk\n",
       "30          Spain          Italy    9.79    High Risk\n",
       "31         France          Japan    7.73       Stable\n",
       "32        Ireland          Spain    6.38  Medium Risk\n",
       "33       Portugal        Ireland    3.77    High Risk\n",
       "34          Italy         Greece    3.22    High Risk\n",
       "35  United States          Italy    3.16    High Risk\n",
       "36  United States         Greece    3.10    High Risk\n",
       "37          Italy        Ireland    2.83    High Risk\n",
       "38          Japan       Portugal    2.18    High Risk\n",
       "39          Japan         Greece    1.37    High Risk\n",
       "40          Italy       Portugal    0.87    High Risk\n",
       "41          Spain         Greece    0.78    High Risk\n",
       "42        Britain         Greece    0.55    High Risk\n",
       "43       Portugal  United States    0.52       Stable\n",
       "44        Ireland         Greece    0.34    High Risk"
      ]
     },
     "execution_count": 2,
     "metadata": {},
     "output_type": "execute_result"
    }
   ],
   "source": [
    "df=pd.read_csv(r\"C:\\Users\\hp\\Downloads\\P6-EuroDebtCrisis.csv\")\n",
    "df"
   ]
  },
  {
   "cell_type": "code",
   "execution_count": 3,
   "id": "c501f547",
   "metadata": {},
   "outputs": [
    {
     "data": {
      "text/plain": [
       "Creditor    0\n",
       "Debtor      0\n",
       "Amount      0\n",
       "Risk        0\n",
       "dtype: int64"
      ]
     },
     "execution_count": 3,
     "metadata": {},
     "output_type": "execute_result"
    }
   ],
   "source": [
    "df.isnull().sum()"
   ]
  },
  {
   "cell_type": "code",
   "execution_count": 4,
   "id": "6f1ce537",
   "metadata": {},
   "outputs": [
    {
     "data": {
      "text/plain": [
       "<AxesSubplot:>"
      ]
     },
     "execution_count": 4,
     "metadata": {},
     "output_type": "execute_result"
    },
    {
     "data": {
      "image/png": "[encoded data removed]",
      "text/plain": [
       "<Figure size 432x288 with 2 Axes>"
      ]
     },
     "metadata": {
      "needs_background": "light"
     },
     "output_type": "display_data"
    }
   ],
   "source": [
    "snn.heatmap(df.isnull())"
   ]
  },
  {
   "cell_type": "code",
   "execution_count": 5,
   "id": "8274d2b3",
   "metadata": {},
   "outputs": [
    {
     "name": "stdout",
     "output_type": "stream",
     "text": [
      "<class 'pandas.core.frame.DataFrame'>\n",
      "RangeIndex: 45 entries, 0 to 44\n",
      "Data columns (total 4 columns):\n",
      " #   Column    Non-Null Count  Dtype  \n",
      "---  ------    --------------  -----  \n",
      " 0   Creditor  45 non-null     object \n",
      " 1   Debtor    45 non-null     object \n",
      " 2   Amount    45 non-null     float64\n",
      " 3   Risk      45 non-null     object \n",
      "dtypes: float64(1), object(3)\n",
      "memory usage: 1.5+ KB\n"
     ]
    }
   ],
   "source": [
    "df.info()"
   ]
  },
  {
   "cell_type": "code",
   "execution_count": 7,
   "id": "ad3278fc",
   "metadata": {},
   "outputs": [
    {
     "name": "stderr",
     "output_type": "stream",
     "text": [
      "C:\\Users\\hp\\anaconda3\\lib\\site-packages\\seaborn\\_decorators.py:36: FutureWarning: Pass the following variables as keyword args: x, y. From version 0.12, the only valid positional argument will be `data`, and passing other arguments without an explicit keyword will result in an error or misinterpretation.\n",
      "  warnings.warn(\n"
     ]
    },
    {
     "data": {
      "text/plain": [
       "<AxesSubplot:xlabel='Creditor', ylabel='Amount'>"
      ]
     },
     "execution_count": 7,
     "metadata": {},
     "output_type": "execute_result"
    },
    {
     "data": {
      "image/png": "[encoded data removed]",
      "text/plain": [
       "<Figure size 432x288 with 1 Axes>"
      ]
     },
     "metadata": {
      "needs_background": "light"
     },
     "output_type": "display_data"
    }
   ],
   "source": [
    "snn.barplot(\"Creditor\",\"Amount\",data=df)"
   ]
  },
  {
   "cell_type": "code",
   "execution_count": 9,
   "id": "82dee656",
   "metadata": {},
   "outputs": [
    {
     "data": {
      "text/plain": [
       "<BarContainer object of 45 artists>"
      ]
     },
     "execution_count": 9,
     "metadata": {},
     "output_type": "execute_result"
    },
    {
     "data": {
      "image/png": "[encoded data removed]",
      "text/plain": [
       "<Figure size 432x288 with 1 Axes>"
      ]
     },
     "metadata": {
      "needs_background": "light"
     },
     "output_type": "display_data"
    }
   ],
   "source": [
    "plt.bar(\"Creditor\",\"Amount\",data=df)\n",
    "# plt,bar cover all the datapoints it is good\n",
    "# but barplot is not cover all data points"
   ]
  },
  {
   "cell_type": "code",
   "execution_count": 11,
   "id": "f5c7a95b",
   "metadata": {},
   "outputs": [
    {
     "data": {
      "text/plain": [
       "Index(['Creditor', 'Debtor', 'Amount', 'Risk'], dtype='object')"
      ]
     },
     "execution_count": 11,
     "metadata": {},
     "output_type": "execute_result"
    }
   ],
   "source": [
    "df.columns"
   ]
  },
  {
   "cell_type": "code",
   "execution_count": 27,
   "id": "d12e2f4d",
   "metadata": {},
   "outputs": [
    {
     "data": {
      "text/plain": [
       "<BarContainer object of 45 artists>"
      ]
     },
     "execution_count": 27,
     "metadata": {},
     "output_type": "execute_result"
    },
    {
     "data": {
      "image/png": "[encoded data removed]",
      "text/plain": [
       "<Figure size 864x432 with 1 Axes>"
      ]
     },
     "metadata": {
      "needs_background": "light"
     },
     "output_type": "display_data"
    }
   ],
   "source": [
    "plt.figure(figsize=(12,6))\n",
    "plt.bar(\"Debtor\",\"Amount\",data=df)"
   ]
  },
  {
   "cell_type": "code",
   "execution_count": 28,
   "id": "ba3107fc",
   "metadata": {},
   "outputs": [
    {
     "data": {
      "text/plain": [
       "<BarContainer object of 45 artists>"
      ]
     },
     "execution_count": 28,
     "metadata": {},
     "output_type": "execute_result"
    },
    {
     "data": {
      "image/png": "[encoded data removed]",
      "text/plain": [
       "<Figure size 432x288 with 1 Axes>"
      ]
     },
     "metadata": {
      "needs_background": "light"
     },
     "output_type": "display_data"
    }
   ],
   "source": [
    "plt.bar(\"Risk\",\"Amount\",data=df)"
   ]
  },
  {
   "cell_type": "code",
   "execution_count": 31,
   "id": "8a1d51cb",
   "metadata": {},
   "outputs": [
    {
     "data": {
      "text/plain": [
       "array(['Japan', 'France', 'Britain', 'Spain', 'Germany', 'Italy',\n",
       "       'Ireland', 'United States', 'Portugal'], dtype=object)"
      ]
     },
     "execution_count": 31,
     "metadata": {},
     "output_type": "execute_result"
    }
   ],
   "source": [
    "df[\"Creditor\"].unique()"
   ]
  },
  {
   "cell_type": "code",
   "execution_count": 41,
   "id": "4469454e",
   "metadata": {},
   "outputs": [
    {
     "data": {
      "image/png": "[encoded data removed]",
      "text/plain": [
       "<Figure size 432x288 with 1 Axes>"
      ]
     },
     "metadata": {},
     "output_type": "display_data"
    }
   ],
   "source": [
    "lb=['Japan', 'France', 'Britain', 'Spain', 'Germany', 'Italy',\n",
    "       'Ireland', 'United States', 'Portugal']\n",
    "plt.pie(df[\"Creditor\"].value_counts(),labels=lb,radius=2,autopct=\"%0.2f%%\")\n",
    "plt.show()"
   ]
  },
  {
   "cell_type": "code",
   "execution_count": 42,
   "id": "2e1e380e",
   "metadata": {},
   "outputs": [
    {
     "data": {
      "text/plain": [
       "array(['United States', 'Italy', 'Britain', 'Spain', 'Germany',\n",
       "       'Portugal', 'Greece', 'Ireland', 'France', 'Japan'], dtype=object)"
      ]
     },
     "execution_count": 42,
     "metadata": {},
     "output_type": "execute_result"
    }
   ],
   "source": [
    "df[\"Debtor\"].unique()"
   ]
  },
  {
   "cell_type": "code",
   "execution_count": 48,
   "id": "36326b39",
   "metadata": {},
   "outputs": [
    {
     "data": {
      "image/png": "[encoded data removed]",
      "text/plain": [
       "<Figure size 432x288 with 1 Axes>"
      ]
     },
     "metadata": {},
     "output_type": "display_data"
    }
   ],
   "source": [
    "lb1=['United States', 'Italy', 'Britain', 'Spain', 'Germany',\n",
    "       'Portugal', 'Greece', 'Ireland', 'France', 'Japan']\n",
    "plt.pie(df[\"Debtor\"].value_counts(),radius=2,labels=lb1,autopct=\"%0.2f%%\")\n",
    "plt.show()"
   ]
  },
  {
   "cell_type": "code",
   "execution_count": 50,
   "id": "2e052877",
   "metadata": {},
   "outputs": [
    {
     "data": {
      "text/plain": [
       "array(['Stable', 'High Risk', 'Medium Risk', 'Low Risk'], dtype=object)"
      ]
     },
     "execution_count": 50,
     "metadata": {},
     "output_type": "execute_result"
    }
   ],
   "source": [
    "df[\"Risk\"].unique()"
   ]
  },
  {
   "cell_type": "code",
   "execution_count": 57,
   "id": "ef24280e",
   "metadata": {},
   "outputs": [
    {
     "data": {
      "text/plain": [
       "High Risk      26\n",
       "Stable         14\n",
       "Medium Risk     4\n",
       "Low Risk        1\n",
       "Name: Risk, dtype: int64"
      ]
     },
     "execution_count": 57,
     "metadata": {},
     "output_type": "execute_result"
    }
   ],
   "source": [
    "df[\"Risk\"].value_counts()"
   ]
  },
  {
   "cell_type": "code",
   "execution_count": 70,
   "id": "d1eabd52",
   "metadata": {},
   "outputs": [
    {
     "data": {
      "image/png": "[encoded data removed]",
      "text/plain": [
       "<Figure size 432x288 with 1 Axes>"
      ]
     },
     "metadata": {},
     "output_type": "display_data"
    }
   ],
   "source": [
    "lb2=['High Risk' ,'Stable','Medium Risk', 'Low Risk']\n",
    "plt.pie(df[\"Risk\"].value_counts(),radius=1.7,labels=lb2,autopct=\"%0.2f%%\",pctdistance=0.8)\n",
    "plt.show()"
   ]
  },
  {
   "cell_type": "code",
   "execution_count": 74,
   "id": "c37d09b3",
   "metadata": {},
   "outputs": [
    {
     "data": {
      "text/plain": [
       "{'whiskers': [<matplotlib.lines.Line2D at 0x1cffb8fbe20>,\n",
       "  <matplotlib.lines.Line2D at 0x1cffb8f5130>],\n",
       " 'caps': [<matplotlib.lines.Line2D at 0x1cffb8f5400>,\n",
       "  <matplotlib.lines.Line2D at 0x1cffb8f56d0>],\n",
       " 'boxes': [<matplotlib.lines.Line2D at 0x1cffb8fbc70>],\n",
       " 'medians': [<matplotlib.lines.Line2D at 0x1cffb8f59a0>],\n",
       " 'fliers': [<matplotlib.lines.Line2D at 0x1cffb8f5c70>],\n",
       " 'means': []}"
      ]
     },
     "execution_count": 74,
     "metadata": {},
     "output_type": "execute_result"
    },
    {
     "data": {
      "image/png": "[encoded data removed]",
      "text/plain": [
       "<Figure size 432x288 with 1 Axes>"
      ]
     },
     "metadata": {
      "needs_background": "light"
     },
     "output_type": "display_data"
    }
   ],
   "source": [
    "plt.boxplot(df[\"Amount\"])"
   ]
  },
  {
   "cell_type": "code",
   "execution_count": null,
   "id": "93a8c945",
   "metadata": {},
   "outputs": [],
   "source": []
  },
  {
   "cell_type": "markdown",
   "id": "f6a66381",
   "metadata": {},
   "source": [
    "# doubts"
   ]
  },
  {
   "cell_type": "code",
   "execution_count": null,
   "id": "94d8c73f",
   "metadata": {},
   "outputs": [],
   "source": [
    "# what is the difference between plt.bat and snn.barplot"
   ]
  }
 ],
 "metadata": {
  "kernelspec": {
   "display_name": "Python 3 (ipykernel)",
   "language": "python",
   "name": "python3"
  },
  "language_info": {
   "codemirror_mode": {
    "name": "ipython",
    "version": 3
   },
   "file_extension": ".py",
   "mimetype": "text/x-python",
   "name": "python",
   "nbconvert_exporter": "python",
   "pygments_lexer": "ipython3",
   "version": "3.9.12"
  }
 },
 "nbformat": 4,
 "nbformat_minor": 5
}
