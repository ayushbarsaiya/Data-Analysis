{
 "cells": [
  {
   "cell_type": "code",
   "execution_count": 103,
   "id": "e367d4e8",
   "metadata": {},
   "outputs": [],
   "source": [
    "import pandas as pd\n",
    "import matplotlib.pyplot as plt\n",
    "import seaborn as sns"
   ]
  },
  {
   "cell_type": "code",
   "execution_count": 104,
   "id": "7bf9db59",
   "metadata": {},
   "outputs": [
    {
     "data": {
      "text/html": [
       "<div>\n",
       "<style scoped>\n",
       "    .dataframe tbody tr th:only-of-type {\n",
       "        vertical-align: middle;\n",
       "    }\n",
       "\n",
       "    .dataframe tbody tr th {\n",
       "        vertical-align: top;\n",
       "    }\n",
       "\n",
       "    .dataframe thead th {\n",
       "        text-align: right;\n",
       "    }\n",
       "</style>\n",
       "<table border=\"1\" class=\"dataframe\">\n",
       "  <thead>\n",
       "    <tr style=\"text-align: right;\">\n",
       "      <th></th>\n",
       "      <th>Date/Time</th>\n",
       "      <th>Lat</th>\n",
       "      <th>Lon</th>\n",
       "      <th>Base</th>\n",
       "    </tr>\n",
       "  </thead>\n",
       "  <tbody>\n",
       "    <tr>\n",
       "      <th>0</th>\n",
       "      <td>8/1/2014 0:03:00</td>\n",
       "      <td>40.7366</td>\n",
       "      <td>-73.9906</td>\n",
       "      <td>B02512</td>\n",
       "    </tr>\n",
       "    <tr>\n",
       "      <th>1</th>\n",
       "      <td>8/1/2014 0:09:00</td>\n",
       "      <td>40.7260</td>\n",
       "      <td>-73.9918</td>\n",
       "      <td>B02512</td>\n",
       "    </tr>\n",
       "    <tr>\n",
       "      <th>2</th>\n",
       "      <td>8/1/2014 0:12:00</td>\n",
       "      <td>40.7209</td>\n",
       "      <td>-74.0507</td>\n",
       "      <td>B02512</td>\n",
       "    </tr>\n",
       "    <tr>\n",
       "      <th>3</th>\n",
       "      <td>8/1/2014 0:12:00</td>\n",
       "      <td>40.7387</td>\n",
       "      <td>-73.9856</td>\n",
       "      <td>B02512</td>\n",
       "    </tr>\n",
       "    <tr>\n",
       "      <th>4</th>\n",
       "      <td>8/1/2014 0:12:00</td>\n",
       "      <td>40.7323</td>\n",
       "      <td>-74.0077</td>\n",
       "      <td>B02512</td>\n",
       "    </tr>\n",
       "    <tr>\n",
       "      <th>...</th>\n",
       "      <td>...</td>\n",
       "      <td>...</td>\n",
       "      <td>...</td>\n",
       "      <td>...</td>\n",
       "    </tr>\n",
       "    <tr>\n",
       "      <th>829270</th>\n",
       "      <td>8/31/2014 23:55:00</td>\n",
       "      <td>40.7552</td>\n",
       "      <td>-73.9753</td>\n",
       "      <td>B02764</td>\n",
       "    </tr>\n",
       "    <tr>\n",
       "      <th>829271</th>\n",
       "      <td>8/31/2014 23:55:00</td>\n",
       "      <td>40.7552</td>\n",
       "      <td>-73.9753</td>\n",
       "      <td>B02764</td>\n",
       "    </tr>\n",
       "    <tr>\n",
       "      <th>829272</th>\n",
       "      <td>8/31/2014 23:55:00</td>\n",
       "      <td>40.7617</td>\n",
       "      <td>-73.9788</td>\n",
       "      <td>B02764</td>\n",
       "    </tr>\n",
       "    <tr>\n",
       "      <th>829273</th>\n",
       "      <td>8/31/2014 23:59:00</td>\n",
       "      <td>40.7395</td>\n",
       "      <td>-73.9889</td>\n",
       "      <td>B02764</td>\n",
       "    </tr>\n",
       "    <tr>\n",
       "      <th>829274</th>\n",
       "      <td>8/31/2014 23:59:00</td>\n",
       "      <td>40.7270</td>\n",
       "      <td>-73.9802</td>\n",
       "      <td>B02764</td>\n",
       "    </tr>\n",
       "  </tbody>\n",
       "</table>\n",
       "<p>829275 rows × 4 columns</p>\n",
       "</div>"
      ],
      "text/plain": [
       "                 Date/Time      Lat      Lon    Base\n",
       "0         8/1/2014 0:03:00  40.7366 -73.9906  B02512\n",
       "1         8/1/2014 0:09:00  40.7260 -73.9918  B02512\n",
       "2         8/1/2014 0:12:00  40.7209 -74.0507  B02512\n",
       "3         8/1/2014 0:12:00  40.7387 -73.9856  B02512\n",
       "4         8/1/2014 0:12:00  40.7323 -74.0077  B02512\n",
       "...                    ...      ...      ...     ...\n",
       "829270  8/31/2014 23:55:00  40.7552 -73.9753  B02764\n",
       "829271  8/31/2014 23:55:00  40.7552 -73.9753  B02764\n",
       "829272  8/31/2014 23:55:00  40.7617 -73.9788  B02764\n",
       "829273  8/31/2014 23:59:00  40.7395 -73.9889  B02764\n",
       "829274  8/31/2014 23:59:00  40.7270 -73.9802  B02764\n",
       "\n",
       "[829275 rows x 4 columns]"
      ]
     },
     "execution_count": 104,
     "metadata": {},
     "output_type": "execute_result"
    }
   ],
   "source": [
    "df=pd.read_csv(r\"C:\\Users\\hp\\Downloads\\archive (4)\\uber-raw-data-aug14.csv\")\n",
    "df"
   ]
  },
  {
   "cell_type": "code",
   "execution_count": 105,
   "id": "4b1f06b0",
   "metadata": {},
   "outputs": [
    {
     "data": {
      "text/plain": [
       "Date/Time    False\n",
       "Lat          False\n",
       "Lon          False\n",
       "Base         False\n",
       "dtype: bool"
      ]
     },
     "execution_count": 105,
     "metadata": {},
     "output_type": "execute_result"
    }
   ],
   "source": [
    "df.isnull().any()\n",
    "# the data has not any null values"
   ]
  },
  {
   "cell_type": "code",
   "execution_count": 106,
   "id": "8ae45ef3",
   "metadata": {},
   "outputs": [
    {
     "data": {
      "text/plain": [
       "15882"
      ]
     },
     "execution_count": 106,
     "metadata": {},
     "output_type": "execute_result"
    }
   ],
   "source": [
    "df.duplicated().sum()"
   ]
  },
  {
   "cell_type": "code",
   "execution_count": 107,
   "id": "7def1885",
   "metadata": {},
   "outputs": [],
   "source": [
    "df.drop_duplicates(inplace=True)"
   ]
  },
  {
   "cell_type": "code",
   "execution_count": 108,
   "id": "f38b98bb",
   "metadata": {},
   "outputs": [
    {
     "data": {
      "text/html": [
       "<div>\n",
       "<style scoped>\n",
       "    .dataframe tbody tr th:only-of-type {\n",
       "        vertical-align: middle;\n",
       "    }\n",
       "\n",
       "    .dataframe tbody tr th {\n",
       "        vertical-align: top;\n",
       "    }\n",
       "\n",
       "    .dataframe thead th {\n",
       "        text-align: right;\n",
       "    }\n",
       "</style>\n",
       "<table border=\"1\" class=\"dataframe\">\n",
       "  <thead>\n",
       "    <tr style=\"text-align: right;\">\n",
       "      <th></th>\n",
       "      <th>Date/Time</th>\n",
       "      <th>Lat</th>\n",
       "      <th>Lon</th>\n",
       "      <th>Base</th>\n",
       "    </tr>\n",
       "  </thead>\n",
       "  <tbody>\n",
       "    <tr>\n",
       "      <th>0</th>\n",
       "      <td>8/1/2014 0:03:00</td>\n",
       "      <td>40.7366</td>\n",
       "      <td>-73.9906</td>\n",
       "      <td>B02512</td>\n",
       "    </tr>\n",
       "    <tr>\n",
       "      <th>1</th>\n",
       "      <td>8/1/2014 0:09:00</td>\n",
       "      <td>40.7260</td>\n",
       "      <td>-73.9918</td>\n",
       "      <td>B02512</td>\n",
       "    </tr>\n",
       "    <tr>\n",
       "      <th>2</th>\n",
       "      <td>8/1/2014 0:12:00</td>\n",
       "      <td>40.7209</td>\n",
       "      <td>-74.0507</td>\n",
       "      <td>B02512</td>\n",
       "    </tr>\n",
       "    <tr>\n",
       "      <th>3</th>\n",
       "      <td>8/1/2014 0:12:00</td>\n",
       "      <td>40.7387</td>\n",
       "      <td>-73.9856</td>\n",
       "      <td>B02512</td>\n",
       "    </tr>\n",
       "    <tr>\n",
       "      <th>4</th>\n",
       "      <td>8/1/2014 0:12:00</td>\n",
       "      <td>40.7323</td>\n",
       "      <td>-74.0077</td>\n",
       "      <td>B02512</td>\n",
       "    </tr>\n",
       "    <tr>\n",
       "      <th>...</th>\n",
       "      <td>...</td>\n",
       "      <td>...</td>\n",
       "      <td>...</td>\n",
       "      <td>...</td>\n",
       "    </tr>\n",
       "    <tr>\n",
       "      <th>829269</th>\n",
       "      <td>8/31/2014 23:55:00</td>\n",
       "      <td>40.7267</td>\n",
       "      <td>-73.9998</td>\n",
       "      <td>B02764</td>\n",
       "    </tr>\n",
       "    <tr>\n",
       "      <th>829270</th>\n",
       "      <td>8/31/2014 23:55:00</td>\n",
       "      <td>40.7552</td>\n",
       "      <td>-73.9753</td>\n",
       "      <td>B02764</td>\n",
       "    </tr>\n",
       "    <tr>\n",
       "      <th>829272</th>\n",
       "      <td>8/31/2014 23:55:00</td>\n",
       "      <td>40.7617</td>\n",
       "      <td>-73.9788</td>\n",
       "      <td>B02764</td>\n",
       "    </tr>\n",
       "    <tr>\n",
       "      <th>829273</th>\n",
       "      <td>8/31/2014 23:59:00</td>\n",
       "      <td>40.7395</td>\n",
       "      <td>-73.9889</td>\n",
       "      <td>B02764</td>\n",
       "    </tr>\n",
       "    <tr>\n",
       "      <th>829274</th>\n",
       "      <td>8/31/2014 23:59:00</td>\n",
       "      <td>40.7270</td>\n",
       "      <td>-73.9802</td>\n",
       "      <td>B02764</td>\n",
       "    </tr>\n",
       "  </tbody>\n",
       "</table>\n",
       "<p>813393 rows × 4 columns</p>\n",
       "</div>"
      ],
      "text/plain": [
       "                 Date/Time      Lat      Lon    Base\n",
       "0         8/1/2014 0:03:00  40.7366 -73.9906  B02512\n",
       "1         8/1/2014 0:09:00  40.7260 -73.9918  B02512\n",
       "2         8/1/2014 0:12:00  40.7209 -74.0507  B02512\n",
       "3         8/1/2014 0:12:00  40.7387 -73.9856  B02512\n",
       "4         8/1/2014 0:12:00  40.7323 -74.0077  B02512\n",
       "...                    ...      ...      ...     ...\n",
       "829269  8/31/2014 23:55:00  40.7267 -73.9998  B02764\n",
       "829270  8/31/2014 23:55:00  40.7552 -73.9753  B02764\n",
       "829272  8/31/2014 23:55:00  40.7617 -73.9788  B02764\n",
       "829273  8/31/2014 23:59:00  40.7395 -73.9889  B02764\n",
       "829274  8/31/2014 23:59:00  40.7270 -73.9802  B02764\n",
       "\n",
       "[813393 rows x 4 columns]"
      ]
     },
     "execution_count": 108,
     "metadata": {},
     "output_type": "execute_result"
    }
   ],
   "source": [
    "df"
   ]
  },
  {
   "cell_type": "code",
   "execution_count": 109,
   "id": "fcf3ae69",
   "metadata": {},
   "outputs": [
    {
     "data": {
      "text/plain": [
       "(813393, 4)"
      ]
     },
     "execution_count": 109,
     "metadata": {},
     "output_type": "execute_result"
    }
   ],
   "source": [
    "df.shape"
   ]
  },
  {
   "cell_type": "code",
   "execution_count": 110,
   "id": "2bcd0296",
   "metadata": {},
   "outputs": [
    {
     "name": "stdout",
     "output_type": "stream",
     "text": [
      "<class 'pandas.core.frame.DataFrame'>\n",
      "Int64Index: 813393 entries, 0 to 829274\n",
      "Data columns (total 4 columns):\n",
      " #   Column     Non-Null Count   Dtype  \n",
      "---  ------     --------------   -----  \n",
      " 0   Date/Time  813393 non-null  object \n",
      " 1   Lat        813393 non-null  float64\n",
      " 2   Lon        813393 non-null  float64\n",
      " 3   Base       813393 non-null  object \n",
      "dtypes: float64(2), object(2)\n",
      "memory usage: 31.0+ MB\n"
     ]
    }
   ],
   "source": [
    "df.info()"
   ]
  },
  {
   "cell_type": "code",
   "execution_count": 111,
   "id": "ae5e6fc3",
   "metadata": {},
   "outputs": [],
   "source": [
    "df[\"Date/Time\"]=pd.to_datetime(df[\"Date/Time\"])"
   ]
  },
  {
   "cell_type": "code",
   "execution_count": 112,
   "id": "cd00b8e8",
   "metadata": {},
   "outputs": [
    {
     "name": "stdout",
     "output_type": "stream",
     "text": [
      "<class 'pandas.core.frame.DataFrame'>\n",
      "Int64Index: 813393 entries, 0 to 829274\n",
      "Data columns (total 4 columns):\n",
      " #   Column     Non-Null Count   Dtype         \n",
      "---  ------     --------------   -----         \n",
      " 0   Date/Time  813393 non-null  datetime64[ns]\n",
      " 1   Lat        813393 non-null  float64       \n",
      " 2   Lon        813393 non-null  float64       \n",
      " 3   Base       813393 non-null  object        \n",
      "dtypes: datetime64[ns](1), float64(2), object(1)\n",
      "memory usage: 31.0+ MB\n"
     ]
    }
   ],
   "source": [
    "df.info()"
   ]
  },
  {
   "cell_type": "code",
   "execution_count": 113,
   "id": "3d7c7525",
   "metadata": {},
   "outputs": [],
   "source": [
    "df[\"Day\"]=df[\"Date/Time\"].dt.day"
   ]
  },
  {
   "cell_type": "code",
   "execution_count": 119,
   "id": "f6b074fc",
   "metadata": {},
   "outputs": [
    {
     "data": {
      "text/plain": [
       "118347    12\n",
       "Name: Day, dtype: int64"
      ]
     },
     "execution_count": 119,
     "metadata": {},
     "output_type": "execute_result"
    }
   ],
   "source": [
    "df[\"Day\"].sample()"
   ]
  },
  {
   "cell_type": "code",
   "execution_count": 189,
   "id": "1b891332",
   "metadata": {},
   "outputs": [],
   "source": [
    "df[\"Weekday\"]=df[\"Date/Time\"].dt.weekday"
   ]
  },
  {
   "cell_type": "code",
   "execution_count": 190,
   "id": "a6f34e22",
   "metadata": {},
   "outputs": [],
   "source": [
    "df[\"Hour\"]=df[\"Date/Time\"].dt.hour"
   ]
  },
  {
   "cell_type": "code",
   "execution_count": 191,
   "id": "fcbfd094",
   "metadata": {},
   "outputs": [],
   "source": [
    "# df[\"Date/Time\"].dt.day_name()"
   ]
  },
  {
   "cell_type": "code",
   "execution_count": 192,
   "id": "f8a2fdce",
   "metadata": {},
   "outputs": [
    {
     "data": {
      "text/html": [
       "<div>\n",
       "<style scoped>\n",
       "    .dataframe tbody tr th:only-of-type {\n",
       "        vertical-align: middle;\n",
       "    }\n",
       "\n",
       "    .dataframe tbody tr th {\n",
       "        vertical-align: top;\n",
       "    }\n",
       "\n",
       "    .dataframe thead th {\n",
       "        text-align: right;\n",
       "    }\n",
       "</style>\n",
       "<table border=\"1\" class=\"dataframe\">\n",
       "  <thead>\n",
       "    <tr style=\"text-align: right;\">\n",
       "      <th></th>\n",
       "      <th>Date/Time</th>\n",
       "      <th>Lat</th>\n",
       "      <th>Lon</th>\n",
       "      <th>Base</th>\n",
       "      <th>Day</th>\n",
       "      <th>Weekday</th>\n",
       "      <th>Hour</th>\n",
       "    </tr>\n",
       "  </thead>\n",
       "  <tbody>\n",
       "    <tr>\n",
       "      <th>0</th>\n",
       "      <td>2014-08-01 00:03:00</td>\n",
       "      <td>40.7366</td>\n",
       "      <td>-73.9906</td>\n",
       "      <td>B02512</td>\n",
       "      <td>1</td>\n",
       "      <td>4</td>\n",
       "      <td>0</td>\n",
       "    </tr>\n",
       "    <tr>\n",
       "      <th>1</th>\n",
       "      <td>2014-08-01 00:09:00</td>\n",
       "      <td>40.7260</td>\n",
       "      <td>-73.9918</td>\n",
       "      <td>B02512</td>\n",
       "      <td>1</td>\n",
       "      <td>4</td>\n",
       "      <td>0</td>\n",
       "    </tr>\n",
       "    <tr>\n",
       "      <th>2</th>\n",
       "      <td>2014-08-01 00:12:00</td>\n",
       "      <td>40.7209</td>\n",
       "      <td>-74.0507</td>\n",
       "      <td>B02512</td>\n",
       "      <td>1</td>\n",
       "      <td>4</td>\n",
       "      <td>0</td>\n",
       "    </tr>\n",
       "    <tr>\n",
       "      <th>3</th>\n",
       "      <td>2014-08-01 00:12:00</td>\n",
       "      <td>40.7387</td>\n",
       "      <td>-73.9856</td>\n",
       "      <td>B02512</td>\n",
       "      <td>1</td>\n",
       "      <td>4</td>\n",
       "      <td>0</td>\n",
       "    </tr>\n",
       "    <tr>\n",
       "      <th>4</th>\n",
       "      <td>2014-08-01 00:12:00</td>\n",
       "      <td>40.7323</td>\n",
       "      <td>-74.0077</td>\n",
       "      <td>B02512</td>\n",
       "      <td>1</td>\n",
       "      <td>4</td>\n",
       "      <td>0</td>\n",
       "    </tr>\n",
       "    <tr>\n",
       "      <th>...</th>\n",
       "      <td>...</td>\n",
       "      <td>...</td>\n",
       "      <td>...</td>\n",
       "      <td>...</td>\n",
       "      <td>...</td>\n",
       "      <td>...</td>\n",
       "      <td>...</td>\n",
       "    </tr>\n",
       "    <tr>\n",
       "      <th>829269</th>\n",
       "      <td>2014-08-31 23:55:00</td>\n",
       "      <td>40.7267</td>\n",
       "      <td>-73.9998</td>\n",
       "      <td>B02764</td>\n",
       "      <td>31</td>\n",
       "      <td>6</td>\n",
       "      <td>23</td>\n",
       "    </tr>\n",
       "    <tr>\n",
       "      <th>829270</th>\n",
       "      <td>2014-08-31 23:55:00</td>\n",
       "      <td>40.7552</td>\n",
       "      <td>-73.9753</td>\n",
       "      <td>B02764</td>\n",
       "      <td>31</td>\n",
       "      <td>6</td>\n",
       "      <td>23</td>\n",
       "    </tr>\n",
       "    <tr>\n",
       "      <th>829272</th>\n",
       "      <td>2014-08-31 23:55:00</td>\n",
       "      <td>40.7617</td>\n",
       "      <td>-73.9788</td>\n",
       "      <td>B02764</td>\n",
       "      <td>31</td>\n",
       "      <td>6</td>\n",
       "      <td>23</td>\n",
       "    </tr>\n",
       "    <tr>\n",
       "      <th>829273</th>\n",
       "      <td>2014-08-31 23:59:00</td>\n",
       "      <td>40.7395</td>\n",
       "      <td>-73.9889</td>\n",
       "      <td>B02764</td>\n",
       "      <td>31</td>\n",
       "      <td>6</td>\n",
       "      <td>23</td>\n",
       "    </tr>\n",
       "    <tr>\n",
       "      <th>829274</th>\n",
       "      <td>2014-08-31 23:59:00</td>\n",
       "      <td>40.7270</td>\n",
       "      <td>-73.9802</td>\n",
       "      <td>B02764</td>\n",
       "      <td>31</td>\n",
       "      <td>6</td>\n",
       "      <td>23</td>\n",
       "    </tr>\n",
       "  </tbody>\n",
       "</table>\n",
       "<p>813393 rows × 7 columns</p>\n",
       "</div>"
      ],
      "text/plain": [
       "                 Date/Time      Lat      Lon    Base  Day  Weekday  Hour\n",
       "0      2014-08-01 00:03:00  40.7366 -73.9906  B02512    1        4     0\n",
       "1      2014-08-01 00:09:00  40.7260 -73.9918  B02512    1        4     0\n",
       "2      2014-08-01 00:12:00  40.7209 -74.0507  B02512    1        4     0\n",
       "3      2014-08-01 00:12:00  40.7387 -73.9856  B02512    1        4     0\n",
       "4      2014-08-01 00:12:00  40.7323 -74.0077  B02512    1        4     0\n",
       "...                    ...      ...      ...     ...  ...      ...   ...\n",
       "829269 2014-08-31 23:55:00  40.7267 -73.9998  B02764   31        6    23\n",
       "829270 2014-08-31 23:55:00  40.7552 -73.9753  B02764   31        6    23\n",
       "829272 2014-08-31 23:55:00  40.7617 -73.9788  B02764   31        6    23\n",
       "829273 2014-08-31 23:59:00  40.7395 -73.9889  B02764   31        6    23\n",
       "829274 2014-08-31 23:59:00  40.7270 -73.9802  B02764   31        6    23\n",
       "\n",
       "[813393 rows x 7 columns]"
      ]
     },
     "execution_count": 192,
     "metadata": {},
     "output_type": "execute_result"
    }
   ],
   "source": [
    "df"
   ]
  },
  {
   "cell_type": "code",
   "execution_count": 130,
   "id": "c8a7640d",
   "metadata": {},
   "outputs": [
    {
     "data": {
      "text/html": [
       "<div>\n",
       "<style scoped>\n",
       "    .dataframe tbody tr th:only-of-type {\n",
       "        vertical-align: middle;\n",
       "    }\n",
       "\n",
       "    .dataframe tbody tr th {\n",
       "        vertical-align: top;\n",
       "    }\n",
       "\n",
       "    .dataframe thead th {\n",
       "        text-align: right;\n",
       "    }\n",
       "</style>\n",
       "<table border=\"1\" class=\"dataframe\">\n",
       "  <thead>\n",
       "    <tr style=\"text-align: right;\">\n",
       "      <th></th>\n",
       "      <th>Date/Time</th>\n",
       "      <th>Lat</th>\n",
       "      <th>Lon</th>\n",
       "      <th>Base</th>\n",
       "      <th>Day</th>\n",
       "      <th>Weekday</th>\n",
       "      <th>Hour</th>\n",
       "    </tr>\n",
       "  </thead>\n",
       "  <tbody>\n",
       "    <tr>\n",
       "      <th>420359</th>\n",
       "      <td>2014-08-14 20:31:00</td>\n",
       "      <td>40.7641</td>\n",
       "      <td>-73.9668</td>\n",
       "      <td>B02617</td>\n",
       "      <td>14</td>\n",
       "      <td>Thursday</td>\n",
       "      <td>20</td>\n",
       "    </tr>\n",
       "  </tbody>\n",
       "</table>\n",
       "</div>"
      ],
      "text/plain": [
       "                 Date/Time      Lat      Lon    Base  Day   Weekday  Hour\n",
       "420359 2014-08-14 20:31:00  40.7641 -73.9668  B02617   14  Thursday    20"
      ]
     },
     "execution_count": 130,
     "metadata": {},
     "output_type": "execute_result"
    }
   ],
   "source": [
    "df.sample()"
   ]
  },
  {
   "cell_type": "code",
   "execution_count": 131,
   "id": "bc48d716",
   "metadata": {},
   "outputs": [
    {
     "data": {
      "text/plain": [
       "array(['B02512', 'B02598', 'B02617', 'B02682', 'B02764'], dtype=object)"
      ]
     },
     "execution_count": 131,
     "metadata": {},
     "output_type": "execute_result"
    }
   ],
   "source": [
    "df[\"Base\"].unique()"
   ]
  },
  {
   "cell_type": "markdown",
   "id": "82c1f009",
   "metadata": {},
   "source": [
    "# Data Visualization"
   ]
  },
  {
   "cell_type": "code",
   "execution_count": 135,
   "id": "51a8513d",
   "metadata": {},
   "outputs": [
    {
     "data": {
      "text/plain": [
       "(array([ 30975.,      0., 217871.,      0.,      0., 346124.,      0.,\n",
       "        171396.,      0.,  47027.]),\n",
       " array([0. , 0.4, 0.8, 1.2, 1.6, 2. , 2.4, 2.8, 3.2, 3.6, 4. ]),\n",
       " <BarContainer object of 10 artists>)"
      ]
     },
     "execution_count": 135,
     "metadata": {},
     "output_type": "execute_result"
    },
    {
     "data": {
      "image/png": "[encoded data removed]",
      "text/plain": [
       "<Figure size 432x288 with 1 Axes>"
      ]
     },
     "metadata": {
      "needs_background": "light"
     },
     "output_type": "display_data"
    }
   ],
   "source": [
    "plt.hist(x=df[\"Base\"])"
   ]
  },
  {
   "cell_type": "markdown",
   "id": "7aa46d5a",
   "metadata": {},
   "source": [
    "# uber trips are rising on working days and decreasing on weekend"
   ]
  },
  {
   "cell_type": "code",
   "execution_count": 175,
   "id": "b099c62f",
   "metadata": {},
   "outputs": [
    {
     "data": {
      "image/png": "[encoded data removed]",
      "text/plain": [
       "<Figure size 720x432 with 1 Axes>"
      ]
     },
     "metadata": {
      "needs_background": "light"
     },
     "output_type": "display_data"
    }
   ],
   "source": [
    "plt.figure(figsize=(10,6))\n",
    "plt.grid(axis=\"y\",alpha=0.4)\n",
    "plt.hist(df[\"Day\"],bins =30, rwidth = .8, range = (0.5,30.5))\n",
    "plt.title(\"Frequency Vs Day\")\n",
    "plt.xlabel(\"Days\")\n",
    "plt.ylabel(\"Frequency\")\n",
    "plt.show()"
   ]
  },
  {
   "cell_type": "code",
   "execution_count": 232,
   "id": "47ff453b",
   "metadata": {},
   "outputs": [
    {
     "name": "stderr",
     "output_type": "stream",
     "text": [
      "C:\\Users\\hp\\anaconda3\\lib\\site-packages\\seaborn\\_decorators.py:36: FutureWarning: Pass the following variable as a keyword arg: x. From version 0.12, the only valid positional argument will be `data`, and passing other arguments without an explicit keyword will result in an error or misinterpretation.\n",
      "  warnings.warn(\n"
     ]
    },
    {
     "data": {
      "text/plain": [
       "<AxesSubplot:xlabel='Hour', ylabel='count'>"
      ]
     },
     "execution_count": 232,
     "metadata": {},
     "output_type": "execute_result"
    },
    {
     "data": {
      "image/png": "[encoded data removed]",
      "text/plain": [
       "<Figure size 432x288 with 1 Axes>"
      ]
     },
     "metadata": {
      "needs_background": "light"
     },
     "output_type": "display_data"
    }
   ],
   "source": [
    "sns.countplot(df[\"Hour\"])"
   ]
  },
  {
   "cell_type": "markdown",
   "id": "60cb4880",
   "metadata": {},
   "source": [
    "# uber trips decreasing after mid night and increasing after 5 am to till 10 pm\n",
    "#   the busy hour in between 3 pm to 9 pm "
   ]
  },
  {
   "cell_type": "code",
   "execution_count": 230,
   "id": "f5180326",
   "metadata": {},
   "outputs": [
    {
     "data": {
      "text/plain": [
       "Text(0.5, 0, 'Weekday')"
      ]
     },
     "execution_count": 230,
     "metadata": {},
     "output_type": "execute_result"
    },
    {
     "data": {
      "image/png": "[encoded data removed]",
      "text/plain": [
       "<Figure size 432x288 with 1 Axes>"
      ]
     },
     "metadata": {
      "needs_background": "light"
     },
     "output_type": "display_data"
    }
   ],
   "source": [
    "sns.countplot(x=df[\"Weekday\"])\n",
    "plt.xlabel(\"Weekday\")"
   ]
  },
  {
   "cell_type": "markdown",
   "id": "65cc7a6a",
   "metadata": {},
   "source": [
    "# 0 represent the monday , uber trips increasing in weekdays and decreasing in weekend "
   ]
  },
  {
   "cell_type": "markdown",
   "id": "692ecbd6",
   "metadata": {},
   "source": [
    "# uber is very profitable on friday."
   ]
  },
  {
   "cell_type": "code",
   "execution_count": 237,
   "id": "f3564649",
   "metadata": {},
   "outputs": [],
   "source": [
    "gp= df.groupby(['Weekday', 'Hour']).size()"
   ]
  },
  {
   "cell_type": "code",
   "execution_count": 240,
   "id": "ba3ccb40",
   "metadata": {},
   "outputs": [
    {
     "data": {
      "text/html": [
       "<div>\n",
       "<style scoped>\n",
       "    .dataframe tbody tr th:only-of-type {\n",
       "        vertical-align: middle;\n",
       "    }\n",
       "\n",
       "    .dataframe tbody tr th {\n",
       "        vertical-align: top;\n",
       "    }\n",
       "\n",
       "    .dataframe thead th {\n",
       "        text-align: right;\n",
       "    }\n",
       "</style>\n",
       "<table border=\"1\" class=\"dataframe\">\n",
       "  <thead>\n",
       "    <tr style=\"text-align: right;\">\n",
       "      <th>Hour</th>\n",
       "      <th>0</th>\n",
       "      <th>1</th>\n",
       "      <th>2</th>\n",
       "      <th>3</th>\n",
       "      <th>4</th>\n",
       "      <th>5</th>\n",
       "      <th>6</th>\n",
       "      <th>7</th>\n",
       "      <th>8</th>\n",
       "      <th>9</th>\n",
       "      <th>...</th>\n",
       "      <th>14</th>\n",
       "      <th>15</th>\n",
       "      <th>16</th>\n",
       "      <th>17</th>\n",
       "      <th>18</th>\n",
       "      <th>19</th>\n",
       "      <th>20</th>\n",
       "      <th>21</th>\n",
       "      <th>22</th>\n",
       "      <th>23</th>\n",
       "    </tr>\n",
       "    <tr>\n",
       "      <th>Weekday</th>\n",
       "      <th></th>\n",
       "      <th></th>\n",
       "      <th></th>\n",
       "      <th></th>\n",
       "      <th></th>\n",
       "      <th></th>\n",
       "      <th></th>\n",
       "      <th></th>\n",
       "      <th></th>\n",
       "      <th></th>\n",
       "      <th></th>\n",
       "      <th></th>\n",
       "      <th></th>\n",
       "      <th></th>\n",
       "      <th></th>\n",
       "      <th></th>\n",
       "      <th></th>\n",
       "      <th></th>\n",
       "      <th></th>\n",
       "      <th></th>\n",
       "      <th></th>\n",
       "    </tr>\n",
       "  </thead>\n",
       "  <tbody>\n",
       "    <tr>\n",
       "      <th>0</th>\n",
       "      <td>1082</td>\n",
       "      <td>677</td>\n",
       "      <td>548</td>\n",
       "      <td>1159</td>\n",
       "      <td>1807</td>\n",
       "      <td>2743</td>\n",
       "      <td>4011</td>\n",
       "      <td>5267</td>\n",
       "      <td>4980</td>\n",
       "      <td>3783</td>\n",
       "      <td>...</td>\n",
       "      <td>4499</td>\n",
       "      <td>5168</td>\n",
       "      <td>5876</td>\n",
       "      <td>6395</td>\n",
       "      <td>6017</td>\n",
       "      <td>5652</td>\n",
       "      <td>5465</td>\n",
       "      <td>4678</td>\n",
       "      <td>3495</td>\n",
       "      <td>2141</td>\n",
       "    </tr>\n",
       "    <tr>\n",
       "      <th>1</th>\n",
       "      <td>1097</td>\n",
       "      <td>722</td>\n",
       "      <td>494</td>\n",
       "      <td>759</td>\n",
       "      <td>1309</td>\n",
       "      <td>2228</td>\n",
       "      <td>3904</td>\n",
       "      <td>5506</td>\n",
       "      <td>5255</td>\n",
       "      <td>4121</td>\n",
       "      <td>...</td>\n",
       "      <td>5401</td>\n",
       "      <td>6256</td>\n",
       "      <td>7296</td>\n",
       "      <td>8132</td>\n",
       "      <td>7840</td>\n",
       "      <td>7135</td>\n",
       "      <td>7171</td>\n",
       "      <td>6512</td>\n",
       "      <td>4853</td>\n",
       "      <td>2853</td>\n",
       "    </tr>\n",
       "    <tr>\n",
       "      <th>2</th>\n",
       "      <td>1614</td>\n",
       "      <td>940</td>\n",
       "      <td>642</td>\n",
       "      <td>949</td>\n",
       "      <td>1451</td>\n",
       "      <td>2558</td>\n",
       "      <td>4463</td>\n",
       "      <td>6056</td>\n",
       "      <td>5848</td>\n",
       "      <td>4492</td>\n",
       "      <td>...</td>\n",
       "      <td>5220</td>\n",
       "      <td>6388</td>\n",
       "      <td>7552</td>\n",
       "      <td>8341</td>\n",
       "      <td>7746</td>\n",
       "      <td>7348</td>\n",
       "      <td>7579</td>\n",
       "      <td>7459</td>\n",
       "      <td>5480</td>\n",
       "      <td>3240</td>\n",
       "    </tr>\n",
       "    <tr>\n",
       "      <th>3</th>\n",
       "      <td>1764</td>\n",
       "      <td>1021</td>\n",
       "      <td>728</td>\n",
       "      <td>1077</td>\n",
       "      <td>1609</td>\n",
       "      <td>2445</td>\n",
       "      <td>3994</td>\n",
       "      <td>5585</td>\n",
       "      <td>5360</td>\n",
       "      <td>4458</td>\n",
       "      <td>...</td>\n",
       "      <td>5709</td>\n",
       "      <td>6798</td>\n",
       "      <td>7657</td>\n",
       "      <td>8420</td>\n",
       "      <td>8383</td>\n",
       "      <td>8339</td>\n",
       "      <td>8372</td>\n",
       "      <td>8571</td>\n",
       "      <td>7896</td>\n",
       "      <td>5611</td>\n",
       "    </tr>\n",
       "    <tr>\n",
       "      <th>4</th>\n",
       "      <td>3463</td>\n",
       "      <td>2024</td>\n",
       "      <td>1301</td>\n",
       "      <td>1625</td>\n",
       "      <td>2131</td>\n",
       "      <td>3038</td>\n",
       "      <td>4569</td>\n",
       "      <td>6482</td>\n",
       "      <td>6623</td>\n",
       "      <td>5407</td>\n",
       "      <td>...</td>\n",
       "      <td>7053</td>\n",
       "      <td>8630</td>\n",
       "      <td>9200</td>\n",
       "      <td>9430</td>\n",
       "      <td>9311</td>\n",
       "      <td>9038</td>\n",
       "      <td>8142</td>\n",
       "      <td>8883</td>\n",
       "      <td>9306</td>\n",
       "      <td>7890</td>\n",
       "    </tr>\n",
       "    <tr>\n",
       "      <th>5</th>\n",
       "      <td>5708</td>\n",
       "      <td>4128</td>\n",
       "      <td>2799</td>\n",
       "      <td>2245</td>\n",
       "      <td>1767</td>\n",
       "      <td>1785</td>\n",
       "      <td>2066</td>\n",
       "      <td>2498</td>\n",
       "      <td>3165</td>\n",
       "      <td>3800</td>\n",
       "      <td>...</td>\n",
       "      <td>6170</td>\n",
       "      <td>7352</td>\n",
       "      <td>7741</td>\n",
       "      <td>8126</td>\n",
       "      <td>8643</td>\n",
       "      <td>8331</td>\n",
       "      <td>8006</td>\n",
       "      <td>8621</td>\n",
       "      <td>9313</td>\n",
       "      <td>8020</td>\n",
       "    </tr>\n",
       "    <tr>\n",
       "      <th>6</th>\n",
       "      <td>6306</td>\n",
       "      <td>4689</td>\n",
       "      <td>3364</td>\n",
       "      <td>2349</td>\n",
       "      <td>1506</td>\n",
       "      <td>1444</td>\n",
       "      <td>1459</td>\n",
       "      <td>2066</td>\n",
       "      <td>2710</td>\n",
       "      <td>3590</td>\n",
       "      <td>...</td>\n",
       "      <td>5875</td>\n",
       "      <td>6760</td>\n",
       "      <td>7150</td>\n",
       "      <td>7117</td>\n",
       "      <td>6332</td>\n",
       "      <td>6062</td>\n",
       "      <td>5867</td>\n",
       "      <td>5552</td>\n",
       "      <td>4755</td>\n",
       "      <td>3216</td>\n",
       "    </tr>\n",
       "  </tbody>\n",
       "</table>\n",
       "<p>7 rows × 24 columns</p>\n",
       "</div>"
      ],
      "text/plain": [
       "Hour       0     1     2     3     4     5     6     7     8     9   ...  \\\n",
       "Weekday                                                              ...   \n",
       "0        1082   677   548  1159  1807  2743  4011  5267  4980  3783  ...   \n",
       "1        1097   722   494   759  1309  2228  3904  5506  5255  4121  ...   \n",
       "2        1614   940   642   949  1451  2558  4463  6056  5848  4492  ...   \n",
       "3        1764  1021   728  1077  1609  2445  3994  5585  5360  4458  ...   \n",
       "4        3463  2024  1301  1625  2131  3038  4569  6482  6623  5407  ...   \n",
       "5        5708  4128  2799  2245  1767  1785  2066  2498  3165  3800  ...   \n",
       "6        6306  4689  3364  2349  1506  1444  1459  2066  2710  3590  ...   \n",
       "\n",
       "Hour       14    15    16    17    18    19    20    21    22    23  \n",
       "Weekday                                                              \n",
       "0        4499  5168  5876  6395  6017  5652  5465  4678  3495  2141  \n",
       "1        5401  6256  7296  8132  7840  7135  7171  6512  4853  2853  \n",
       "2        5220  6388  7552  8341  7746  7348  7579  7459  5480  3240  \n",
       "3        5709  6798  7657  8420  8383  8339  8372  8571  7896  5611  \n",
       "4        7053  8630  9200  9430  9311  9038  8142  8883  9306  7890  \n",
       "5        6170  7352  7741  8126  8643  8331  8006  8621  9313  8020  \n",
       "6        5875  6760  7150  7117  6332  6062  5867  5552  4755  3216  \n",
       "\n",
       "[7 rows x 24 columns]"
      ]
     },
     "execution_count": 240,
     "metadata": {},
     "output_type": "execute_result"
    }
   ],
   "source": [
    "pivot = gp.unstack()\n",
    "pivot"
   ]
  },
  {
   "cell_type": "code",
   "execution_count": 241,
   "id": "1bf568dd",
   "metadata": {},
   "outputs": [
    {
     "data": {
      "text/plain": [
       "<AxesSubplot:xlabel='Hour', ylabel='Weekday'>"
      ]
     },
     "execution_count": 241,
     "metadata": {},
     "output_type": "execute_result"
    },
    {
     "data": {
      "image/png": "[encoded data removed]",
      "text/plain": [
       "<Figure size 1080x432 with 2 Axes>"
      ]
     },
     "metadata": {
      "needs_background": "light"
     },
     "output_type": "display_data"
    }
   ],
   "source": [
    "plt.figure(figsize=(15,6))\n",
    "sns.heatmap(pivot)"
   ]
  },
  {
   "cell_type": "code",
   "execution_count": null,
   "id": "cd18abb3",
   "metadata": {},
   "outputs": [],
   "source": [
    "# on friday , 2:30 pm to 7:30 pm is very profitable for uber."
   ]
  },
  {
   "cell_type": "code",
   "execution_count": 242,
   "id": "8c04b684",
   "metadata": {},
   "outputs": [
    {
     "data": {
      "text/plain": [
       "<matplotlib.collections.PathCollection at 0x22b225f3a90>"
      ]
     },
     "execution_count": 242,
     "metadata": {},
     "output_type": "execute_result"
    },
    {
     "data": {
      "image/png": "[encoded data removed]",
      "text/plain": [
       "<Figure size 432x288 with 1 Axes>"
      ]
     },
     "metadata": {
      "needs_background": "light"
     },
     "output_type": "display_data"
    }
   ],
   "source": [
    "plt.scatter(df[\"Lat\"],df[\"Lon\"])"
   ]
  },
  {
   "cell_type": "markdown",
   "id": "c374d811",
   "metadata": {},
   "source": [
    "# Summary"
   ]
  },
  {
   "cell_type": "markdown",
   "id": "9a75f067",
   "metadata": {},
   "source": [
    "# 1. Friday is the most profitable day for uber\n",
    "# 2. On sunday less number of people use uber\n",
    "# 3. 5 pm is the very busiest time for uber\n",
    "# 4. On average a rise in Uber trips start around 5 am."
   ]
  },
  {
   "cell_type": "code",
   "execution_count": 243,
   "id": "8a2d589d",
   "metadata": {},
   "outputs": [
    {
     "data": {
      "text/plain": [
       "(813393, 7)"
      ]
     },
     "execution_count": 243,
     "metadata": {},
     "output_type": "execute_result"
    }
   ],
   "source": [
    "df.shape"
   ]
  },
  {
   "cell_type": "code",
   "execution_count": null,
   "id": "04fb47e9",
   "metadata": {},
   "outputs": [],
   "source": []
  }
 ],
 "metadata": {
  "kernelspec": {
   "display_name": "Python 3 (ipykernel)",
   "language": "python",
   "name": "python3"
  },
  "language_info": {
   "codemirror_mode": {
    "name": "ipython",
    "version": 3
   },
   "file_extension": ".py",
   "mimetype": "text/x-python",
   "name": "python",
   "nbconvert_exporter": "python",
   "pygments_lexer": "ipython3",
   "version": "3.9.12"
  }
 },
 "nbformat": 4,
 "nbformat_minor": 5
}
